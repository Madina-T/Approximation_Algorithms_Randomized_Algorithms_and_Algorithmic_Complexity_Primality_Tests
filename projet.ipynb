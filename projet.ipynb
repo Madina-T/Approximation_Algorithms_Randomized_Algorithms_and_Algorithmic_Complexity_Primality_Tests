{
 "cells": [
  {
   "cell_type": "code",
   "execution_count": 1,
   "metadata": {
    "collapsed": true
   },
   "outputs": [],
   "source": [
    "import math\n",
    "import random\n",
    "import time\n",
    "import matplotlib.pyplot as plt\n",
    "import numpy as np"
   ]
  },
  {
   "cell_type": "code",
   "execution_count": 2,
   "metadata": {
    "collapsed": true
   },
   "outputs": [],
   "source": [
    "def my_pgcd(a,b):\n",
    "    \"\"\"\n",
    "        Calcule le pgcd de a et b\n",
    "    \"\"\"\n",
    "    while b != 0:\n",
    "        a,b = b,a%b\n",
    "    return a"
   ]
  },
  {
   "cell_type": "code",
   "execution_count": 3,
   "metadata": {
    "collapsed": true
   },
   "outputs": [],
   "source": [
    "def my_inverse(a,N):\n",
    "    \"\"\"\n",
    "        Retourne l'inverse de a modulo N s'il existe\n",
    "    \"\"\"\n",
    "    for b in range(1,N):\n",
    "        if a*b%N == 1:\n",
    "            return b\n",
    "    #print(a,\"n'a pas d'inverse modulo\",N)\n",
    "    return None"
   ]
  },
  {
   "cell_type": "code",
   "execution_count": 4,
   "metadata": {},
   "outputs": [
    {
     "name": "stdout",
     "output_type": "stream",
     "text": [
      "2\n"
     ]
    }
   ],
   "source": [
    "print(my_pgcd(2,4))"
   ]
  },
  {
   "cell_type": "code",
   "execution_count": 5,
   "metadata": {},
   "outputs": [
    {
     "name": "stdout",
     "output_type": "stream",
     "text": [
      "1969\n"
     ]
    }
   ],
   "source": [
    "print(my_inverse(42,2017))"
   ]
  },
  {
   "cell_type": "code",
   "execution_count": 6,
   "metadata": {
    "collapsed": true
   },
   "outputs": [],
   "source": [
    "def calculer_temps_my_pgcd(a,b):\n",
    "    \"\"\"\n",
    "        Calcule le temps d'exécution de la fonction my_pgcd pour deux entiers a et b donnés \n",
    "    \"\"\"\n",
    "    tdebut = time.clock()\n",
    "    my_pgcd(a,b)\n",
    "    tfin = time.clock()\n",
    "    return tfin - tdebut"
   ]
  },
  {
   "cell_type": "code",
   "execution_count": 7,
   "metadata": {
    "collapsed": true
   },
   "outputs": [],
   "source": [
    "def tracer_courbe_my_pgcd():\n",
    "    \"\"\"\n",
    "        Trace une courbe du temps d'exécution de la fonction my_pgcd en fonction de a et b\n",
    "    \"\"\"\n",
    "    N = []\n",
    "    t = []\n",
    "    for i in range(0,100000,100):\n",
    "        N.append(i)\n",
    "        a,b = i+random.randint(1,100),i\n",
    "        temps = calculer_temps_my_pgcd(a,b)\n",
    "        t.append(temps)\n",
    "    return N,t"
   ]
  },
  {
   "cell_type": "code",
   "execution_count": 1261,
   "metadata": {},
   "outputs": [
    {
     "data": {
      "image/png": "[encoded data removed]",
      "text/plain": [
       "<Figure size 432x288 with 1 Axes>"
      ]
     },
     "metadata": {},
     "output_type": "display_data"
    }
   ],
   "source": [
    "N,t = tracer_courbe_my_pgcd()\n",
    "for i in range(len(t)):\n",
    "    if t[i]>sum(t)/len(t)+0.0001:\n",
    "        t[i] = sum(t)/len(t)\n",
    "plt.plot(N,t)\n",
    "plt.xlabel('b')\n",
    "plt.ylabel('Temps')\n",
    "plt.show()"
   ]
  },
  {
   "cell_type": "markdown",
   "metadata": {},
   "source": []
  },
  {
   "cell_type": "code",
   "execution_count": 8,
   "metadata": {
    "collapsed": true
   },
   "outputs": [],
   "source": [
    "def calculer_temps_my_inverse(a,N):\n",
    "    \"\"\"\n",
    "        Calcule le temps d'exécution de la fonction my_inverse pour deux entiers a et N donnés \n",
    "    \"\"\"\n",
    "    tdebut = time.clock()\n",
    "    my_inverse(a,N)\n",
    "    tfin = time.clock()\n",
    "    return tfin-tdebut"
   ]
  },
  {
   "cell_type": "code",
   "execution_count": 33,
   "metadata": {
    "collapsed": true
   },
   "outputs": [],
   "source": [
    "def tracer_courbe_my_inverse(a):\n",
    "    \"\"\"\n",
    "        Trace une courbe du temps d'exécution de la fonction my_inverse en fonction de N \n",
    "    \"\"\"\n",
    "    N = []\n",
    "    t = []\n",
    "    for i in range(0,1000000,1000):\n",
    "        N.append(i)\n",
    "        t.append(calculer_temps_my_inverse(a,i))\n",
    "    return N,t"
   ]
  },
  {
   "cell_type": "code",
   "execution_count": 34,
   "metadata": {},
   "outputs": [
    {
     "data": {
      "image/png": "[encoded data removed]",
      "text/plain": [
       "<Figure size 432x288 with 1 Axes>"
      ]
     },
     "metadata": {},
     "output_type": "display_data"
    }
   ],
   "source": [
    "N,t = tracer_courbe_my_inverse(4)\n",
    "plt.plot(N,t)\n",
    "plt.xlabel('N')\n",
    "plt.ylabel('Temps')\n",
    "plt.show()"
   ]
  },
  {
   "cell_type": "code",
   "execution_count": 9,
   "metadata": {
    "collapsed": true
   },
   "outputs": [],
   "source": [
    "def binaire(n):\n",
    "    \"\"\"\n",
    "        Convertit l'entier n en nombre binaire (écrit sous forme de tableau)\n",
    "    \"\"\"\n",
    "    tab=[]\n",
    "    while n!=0:\n",
    "        tab.append(n%2)\n",
    "        n=n//2\n",
    "    return tab\n",
    "\n",
    "def my_expo_mod(g,n,N):\n",
    "    \"\"\"\n",
    "        Calcule g^n mod N à l'aide d'une méthode d'exponentiation discrète\n",
    "    \"\"\"\n",
    "    h = 1\n",
    "    a = binaire(n)\n",
    "    l = len(a)\n",
    "    for i in range(l-1,-1,-1):\n",
    "        h = h*h%N\n",
    "        if a[i] == 1:\n",
    "            h = (h*g)%N\n",
    "    return h"
   ]
  },
  {
   "cell_type": "code",
   "execution_count": 10,
   "metadata": {},
   "outputs": [
    {
     "name": "stdout",
     "output_type": "stream",
     "text": [
      "2\n"
     ]
    }
   ],
   "source": [
    "g = 2\n",
    "n = 3\n",
    "N = 3\n",
    "print(my_expo_mod(g,n,N))"
   ]
  },
  {
   "cell_type": "code",
   "execution_count": 11,
   "metadata": {
    "collapsed": true
   },
   "outputs": [],
   "source": [
    "def first_test(N):\n",
    "    \"\"\"\n",
    "        Test naïf de primalité sur un entier N\n",
    "        \n",
    "        Retourne True si N est premier, False sinon\n",
    "    \"\"\"\n",
    "    for i in range(2,math.floor(math.sqrt(N))+1):\n",
    "        if N%i == 0:\n",
    "            return False\n",
    "    return True"
   ]
  },
  {
   "cell_type": "code",
   "execution_count": 17,
   "metadata": {},
   "outputs": [
    {
     "name": "stdout",
     "output_type": "stream",
     "text": [
      "False\n"
     ]
    }
   ],
   "source": [
    "print(first_test(4))"
   ]
  },
  {
   "cell_type": "code",
   "execution_count": 18,
   "metadata": {
    "collapsed": true
   },
   "outputs": [],
   "source": [
    "def nb_premiers_inf_a(n):\n",
    "    \"\"\"\n",
    "        Énumère les nombres premiers inférieurs à n\n",
    "    \"\"\"\n",
    "    c = 0\n",
    "    for i in range(2,n):\n",
    "        if first_test(i):\n",
    "            c += 1\n",
    "    return c"
   ]
  },
  {
   "cell_type": "code",
   "execution_count": 19,
   "metadata": {},
   "outputs": [
    {
     "data": {
      "text/plain": [
       "9592"
      ]
     },
     "execution_count": 19,
     "metadata": {},
     "output_type": "execute_result"
    }
   ],
   "source": [
    "nb_premiers_inf_a(10**5)"
   ]
  },
  {
   "cell_type": "code",
   "execution_count": 20,
   "metadata": {
    "collapsed": true
   },
   "outputs": [],
   "source": [
    "def facteurs_premiers(n):\n",
    "    \"\"\"\n",
    "        Donne la liste des facteurs premiers de l'entier n\n",
    "    \"\"\"\n",
    "    l = []\n",
    "    for i in range(2,n):\n",
    "        if first_test(i) and n%i == 0:\n",
    "            l.append(i)\n",
    "    return l\n",
    "\n",
    "def carmichael(n):\n",
    "    \"\"\"\n",
    "        Retourne True si n est un nombre de Carmichael, False sinon\n",
    "    \"\"\"\n",
    "    if n%2 == 0:\n",
    "        return False #car les nombres de Carmichael sont impairs\n",
    "    if first_test(n):\n",
    "        return False #car les nombres de Carmichael sont composés\n",
    "    lfp = facteurs_premiers(n)\n",
    "    if len(lfp) != len(set(lfp)):\n",
    "        return False #car les nombres de Carmichael n'ont pas de facteurs carrés\n",
    "    if len(set(lfp)) <3:\n",
    "        return False #car les nombres de Carmichael sont le produit d'au moins 3 nombres premiers différents\n",
    "    for p in lfp:\n",
    "        if (n-1)%(p-1):\n",
    "            return False\n",
    "    lpn = [a for a in range(2,n) if my_pgcd(a,n) == 1] #liste des entiers premiers avec n\n",
    "    for a in lpn:\n",
    "        if my_expo_mod(a,n-1,n) != 1:\n",
    "            return False\n",
    "    return True"
   ]
  },
  {
   "cell_type": "code",
   "execution_count": 21,
   "metadata": {},
   "outputs": [
    {
     "data": {
      "text/plain": [
       "True"
      ]
     },
     "execution_count": 21,
     "metadata": {},
     "output_type": "execute_result"
    }
   ],
   "source": [
    "carmichael(561)"
   ]
  },
  {
   "cell_type": "code",
   "execution_count": 22,
   "metadata": {
    "collapsed": true
   },
   "outputs": [],
   "source": [
    "def gen_carmichael_inf_a(N):\n",
    "    \"\"\"\n",
    "        Liste les nombres de Carmichael inférieurs à N\n",
    "    \"\"\"\n",
    "    l = []\n",
    "    for i in range(1,N,2):\n",
    "        if carmichael(i):\n",
    "            print(i)\n",
    "            l.append(i)\n",
    "    return l"
   ]
  },
  {
   "cell_type": "code",
   "execution_count": 289,
   "metadata": {
    "scrolled": false
   },
   "outputs": [
    {
     "name": "stdout",
     "output_type": "stream",
     "text": [
      "561\n",
      "1105\n",
      "1729\n",
      "2465\n",
      "2821\n",
      "6601\n",
      "8911\n",
      "10585\n",
      "15841\n",
      "29341\n",
      "41041\n",
      "46657\n",
      "52633\n",
      "62745\n",
      "63973\n",
      "75361\n"
     ]
    },
    {
     "data": {
      "text/plain": [
       "[561,\n",
       " 1105,\n",
       " 1729,\n",
       " 2465,\n",
       " 2821,\n",
       " 6601,\n",
       " 8911,\n",
       " 10585,\n",
       " 15841,\n",
       " 29341,\n",
       " 41041,\n",
       " 46657,\n",
       " 52633,\n",
       " 62745,\n",
       " 63973,\n",
       " 75361]"
      ]
     },
     "execution_count": 289,
     "metadata": {},
     "output_type": "execute_result"
    }
   ],
   "source": [
    "gen_carmichael_inf_a(10**5)"
   ]
  },
  {
   "cell_type": "code",
   "execution_count": 896,
   "metadata": {
    "collapsed": true
   },
   "outputs": [],
   "source": [
    "def gen_carmichael(a,b):\n",
    "    \"\"\"\n",
    "        Génère un nombre de Carmichael de la forme n = p*q*r avec p,q et r trois nombres premiers compris entre a et b\n",
    "    \"\"\"\n",
    "    while True: \n",
    "        p = random.randint(a,b)\n",
    "        while not first_test(p):\n",
    "            p = random.randint(a,b)\n",
    "        q = random.randint(a,b)\n",
    "        while not first_test(q):\n",
    "            q = random.randint(a,b)\n",
    "        r = random.randint(a,b)\n",
    "        while not first_test(r):\n",
    "            r = random.randint(a,b)\n",
    "        n = p*q*r\n",
    "        if carmichael(n):\n",
    "            l = sorted([p,q,r])\n",
    "            print(n,\"=\",l[0],\"x\",l[1],\"x\",l[2],\"\\n\")\n",
    "            return n"
   ]
  },
  {
   "cell_type": "code",
   "execution_count": 318,
   "metadata": {},
   "outputs": [
    {
     "name": "stdout",
     "output_type": "stream",
     "text": [
      "15841 = 7 x 31 x 73 \n",
      "\n",
      "15841\n"
     ]
    }
   ],
   "source": [
    "gen_carmichael(1,100)"
   ]
  },
  {
   "cell_type": "code",
   "execution_count": 333,
   "metadata": {},
   "outputs": [
    {
     "name": "stdout",
     "output_type": "stream",
     "text": [
      "294409 = 37 x 73 x 109 \n",
      "\n"
     ]
    },
    {
     "data": {
      "text/plain": [
       "294409"
      ]
     },
     "execution_count": 333,
     "metadata": {},
     "output_type": "execute_result"
    }
   ],
   "source": [
    "gen_carmichael(35,200)"
   ]
  },
  {
   "cell_type": "code",
   "execution_count": 330,
   "metadata": {
    "collapsed": true
   },
   "outputs": [],
   "source": [
    "def gen_carmichael_p_fixe(p,a,b):\n",
    "    \"\"\"\n",
    "        Génère un nombre de Carmichael de la forme n = p*q*r avec p,q et r trois nombres premiers compris entre a et b et p fixé\n",
    "    \"\"\"\n",
    "    c = []\n",
    "    lp = [] #liste des nombres premiers compris entre a et b\n",
    "    for i in range(a,b+1,2):\n",
    "        if first_test(i):\n",
    "            lp.append(i)\n",
    "    for i in range(len(lp)):\n",
    "         for j in range(i+1,len(lp)):\n",
    "                q = lp[i]\n",
    "                r = lp[j]\n",
    "                n = p*q*r\n",
    "                if carmichael(n):\n",
    "                    l = sorted([p,q,r])\n",
    "                    print(n,\"=\",l[0],\"x\",l[1],\"x\",l[2],\"\\n\")\n",
    "                    c.append(n)\n",
    "    return c"
   ]
  },
  {
   "cell_type": "code",
   "execution_count": 331,
   "metadata": {},
   "outputs": [
    {
     "name": "stdout",
     "output_type": "stream",
     "text": [
      "561 = 3 x 11 x 17 \n",
      "\n"
     ]
    },
    {
     "data": {
      "text/plain": [
       "[561]"
      ]
     },
     "execution_count": 331,
     "metadata": {},
     "output_type": "execute_result"
    }
   ],
   "source": [
    "gen_carmichael_p_fixe(3,1,20)"
   ]
  },
  {
   "cell_type": "code",
   "execution_count": 332,
   "metadata": {},
   "outputs": [
    {
     "name": "stdout",
     "output_type": "stream",
     "text": [
      "1105 = 5 x 13 x 17 \n",
      "\n",
      "2465 = 5 x 17 x 29 \n",
      "\n",
      "10585 = 5 x 29 x 73 \n",
      "\n"
     ]
    },
    {
     "data": {
      "text/plain": [
       "[1105, 2465, 10585]"
      ]
     },
     "execution_count": 332,
     "metadata": {},
     "output_type": "execute_result"
    }
   ],
   "source": [
    "gen_carmichael_p_fixe(5,1,100)"
   ]
  },
  {
   "cell_type": "code",
   "execution_count": 23,
   "metadata": {
    "collapsed": true
   },
   "outputs": [],
   "source": [
    "def test_fermat(N):\n",
    "    \"\"\"\n",
    "        Test de primalité de Fermat\n",
    "        \n",
    "        Retourne False si N est un nombre composé, True s'il est possiblement premier\n",
    "    \"\"\"\n",
    "    a = random.randint(2,N-1)\n",
    "    b = my_expo_mod(a,N,N)\n",
    "    if (b-a)%N:\n",
    "        return False\n",
    "    return True"
   ]
  },
  {
   "cell_type": "code",
   "execution_count": 367,
   "metadata": {
    "collapsed": true
   },
   "outputs": [],
   "source": [
    "def gen_compose(a,b):\n",
    "    \"\"\"\n",
    "        Génère un nombre composé compris entre a et b\n",
    "    \"\"\"\n",
    "    while True:\n",
    "        N = random.randint(a,b)\n",
    "        if not test_fermat(N):\n",
    "            return N"
   ]
  },
  {
   "cell_type": "code",
   "execution_count": 378,
   "metadata": {},
   "outputs": [
    {
     "name": "stdout",
     "output_type": "stream",
     "text": [
      "1729 = 7 x 13 x 19 \n",
      "\n",
      "True\n",
      "False\n"
     ]
    }
   ],
   "source": [
    "n = gen_carmichael(3,75)\n",
    "print(test_fermat(n))\n",
    "print(first_test(n))"
   ]
  },
  {
   "cell_type": "code",
   "execution_count": 376,
   "metadata": {},
   "outputs": [
    {
     "name": "stdout",
     "output_type": "stream",
     "text": [
      "1161\n",
      "False\n",
      "False\n"
     ]
    }
   ],
   "source": [
    "n = gen_compose(1,10**5)\n",
    "print(n)\n",
    "print(test_fermat(n))\n",
    "print(first_test(n))"
   ]
  },
  {
   "cell_type": "code",
   "execution_count": 388,
   "metadata": {
    "collapsed": true
   },
   "outputs": [],
   "source": [
    "def proba_erreur_test_fermat(n):\n",
    "    \"\"\"\n",
    "        Calcule la probabilité d'erreur de test_fermat pour des entiers inférieurs à 10⁵\n",
    "    \"\"\"\n",
    "    p = 0\n",
    "    for i in range(n):\n",
    "        r = random.random()\n",
    "        if r < 0.33:\n",
    "            N = gen_carmichael(3,30)\n",
    "        elif 0.33 <= r < 0.66:\n",
    "            N = gen_compose(1,10**5)\n",
    "        else:\n",
    "            N = random.randint(0,10**5)\n",
    "        if test_fermat(N) and not first_test(N):\n",
    "            p += 1\n",
    "    return p/n"
   ]
  },
  {
   "cell_type": "code",
   "execution_count": 395,
   "metadata": {},
   "outputs": [
    {
     "data": {
      "text/plain": [
       "0.31"
      ]
     },
     "execution_count": 395,
     "metadata": {},
     "output_type": "execute_result"
    }
   ],
   "source": [
    "proba_erreur_test_fermat(100)"
   ]
  },
  {
   "cell_type": "code",
   "execution_count": null,
   "metadata": {
    "collapsed": true
   },
   "outputs": [],
   "source": [
    "def test_miller_rabin(n,T):\n",
    "    \"\"\"\n",
    "        Test de primalité de Miller-Rabin\n",
    "        \n",
    "        Retourne False si N est un nombre composé, True s'il est probablement premier\n",
    "    \"\"\"\n",
    "    h = 1\n",
    "    while 2**h <= n-1 and (n-1)%(2**h):\n",
    "        h += 1\n",
    "    h = h-1\n",
    "    m = (n-1)/(2**h)\n",
    "    if n != 1 + (2**h)*m:\n",
    "        return False \n",
    "    for i in range(1,T):\n",
    "        a = random.randint(2,n-2)\n",
    "        b = my_expo_mod(a,m,n)\n",
    "        if b != 1 and b != (n-1):\n",
    "            for j in range(1,h-1):\n",
    "                if my_expo_mod(b,2,n) == 1:\n",
    "                    return False\n",
    "                b = my_expo_mod(b,2,n)\n",
    "            if b != (n-1):\n",
    "                return False\n",
    "    return True"
   ]
  },
  {
   "cell_type": "code",
   "execution_count": 679,
   "metadata": {},
   "outputs": [
    {
     "name": "stdout",
     "output_type": "stream",
     "text": [
      "561\n",
      "False\n",
      "False\n"
     ]
    }
   ],
   "source": [
    "n = gen_carmichael(3,30)\n",
    "print(n)\n",
    "print(test_miller_rabin(n,100))\n",
    "print(first_test(n))"
   ]
  },
  {
   "cell_type": "code",
   "execution_count": 680,
   "metadata": {},
   "outputs": [
    {
     "name": "stdout",
     "output_type": "stream",
     "text": [
      "29162\n",
      "False\n",
      "False\n"
     ]
    }
   ],
   "source": [
    "n = gen_compose(1,10**5)\n",
    "print(n)\n",
    "print(test_fermat(n))\n",
    "print(first_test(n))"
   ]
  },
  {
   "cell_type": "code",
   "execution_count": 673,
   "metadata": {
    "collapsed": true
   },
   "outputs": [],
   "source": [
    "def proba_erreur_test_miller_rabin(n,T):\n",
    "    \"\"\"\n",
    "        Calcule la probabilité d'erreur de test_miller_rabin pour des entiers inférieurs à 10⁵\n",
    "    \"\"\"\n",
    "    p = 0\n",
    "    for i in range(n):\n",
    "        r = random.random()\n",
    "        if r < 0.33:\n",
    "            N = gen_carmichael(3,30)\n",
    "        elif 0.33 <= r < 0.66:\n",
    "            N = gen_compose(1,10**5)\n",
    "        else:\n",
    "            N = random.randint(0,10**5)\n",
    "        if test_miller_rabin(N,T) and not first_test(N):\n",
    "            p += 1\n",
    "    return p/n"
   ]
  },
  {
   "cell_type": "code",
   "execution_count": 893,
   "metadata": {},
   "outputs": [
    {
     "data": {
      "text/plain": [
       "0.23"
      ]
     },
     "execution_count": 893,
     "metadata": {},
     "output_type": "execute_result"
    }
   ],
   "source": [
    "proba_erreur_test_miller_rabin(100,100)"
   ]
  },
  {
   "cell_type": "code",
   "execution_count": 809,
   "metadata": {
    "collapsed": true
   },
   "outputs": [],
   "source": [
    "def gen_rsa(t):\n",
    "    \"\"\"\n",
    "        Génère des nombres probablement premiers (semi-premiers)\n",
    "    \"\"\"\n",
    "    while True:\n",
    "        p = random.randint(pow(2,t-1),pow(2,t))\n",
    "        q = random.randint(pow(2,t-1),pow(2,t))\n",
    "        if test_miller_rabin(p,t) and test_miller_rabin(q,t):\n",
    "            return p*q"
   ]
  },
  {
   "cell_type": "code",
   "execution_count": 892,
   "metadata": {},
   "outputs": [
    {
     "data": {
      "text/plain": [
       "475978"
      ]
     },
     "execution_count": 892,
     "metadata": {},
     "output_type": "execute_result"
    }
   ],
   "source": [
    "gen_rsa(10)"
   ]
  }
 ],
 "metadata": {
  "kernelspec": {
   "display_name": "Python 3",
   "language": "python",
   "name": "python3"
  },
  "language_info": {
   "codemirror_mode": {
    "name": "ipython",
    "version": 3
   },
   "file_extension": ".py",
   "mimetype": "text/x-python",
   "name": "python",
   "nbconvert_exporter": "python",
   "pygments_lexer": "ipython3",
   "version": "3.6.7"
  }
 },
 "nbformat": 4,
 "nbformat_minor": 2
}
